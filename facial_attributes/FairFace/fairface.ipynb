{
  "cells": [
    {
      "cell_type": "code",
      "source": [
        "%load_ext autoreload\n",
        "%autoreload 2\n",
        "\n",
        "import pandas as pd\n",
        "pd.set_option(\"max_rows\", None)\n",
        "from sklearn.metrics import accuracy_score, precision_score, recall_score, f1_score, confusion_matrix, classification_report\n",
        "\n",
        "import glob\n"
      ],
      "outputs": [
        {
          "output_type": "stream",
          "name": "stdout",
          "text": "The autoreload extension is already loaded. To reload it, use:\n  %reload_ext autoreload\n"
        }
      ],
      "execution_count": 62,
      "metadata": {
        "gather": {
          "logged": 1642334554802
        }
      }
    },
    {
      "cell_type": "code",
      "source": [
        "!/anaconda/envs/azureml_py38_pytorch/bin/python predict.py --input_path=\"../HKTVMall_data\" --input_csv=\"../human_detection/result/frcnn_result.csv\" --face_path=\"detect_faces\" --save_path=\"result/face_attributes.csv\" --model_path=\"resnet_model/fairface_4race_20191111.pt\" --face_size=500 --progress=20"
      ],
      "outputs": [
        {
          "output_type": "stream",
          "name": "stdout",
          "text": "using CUDA: True\ndetecting faces, saved at result/face_attributes.csv\n---0/207---\nSorry, there were no faces found in '../HKTVMall_data/3.jpg'\nSorry, there were no faces found in '../HKTVMall_data/6.jpg'\nSorry, there were no faces found in '../HKTVMall_data/7.jpg'\nSorry, there were no faces found in '../HKTVMall_data/40.jpg'\nSorry, there were no faces found in '../HKTVMall_data/46.jpg'\nSorry, there were no faces found in '../HKTVMall_data/51.jpg'\nSorry, there were no faces found in '../HKTVMall_data/53.jpg'\nSorry, there were no faces found in '../HKTVMall_data/56.jpg'\nSorry, there were no faces found in '../HKTVMall_data/74.jpg'\nSorry, there were no faces found in '../HKTVMall_data/83.jpg'\n---20/207---\nSorry, there were no faces found in '../HKTVMall_data/87.jpg'\nSorry, there were no faces found in '../HKTVMall_data/92.jpg'\nSorry, there were no faces found in '../HKTVMall_data/96.jpg'\nSorry, there were no faces found in '../HKTVMall_data/112.jpg'\nSorry, there were no faces found in '../HKTVMall_data/141.jpg'\nSorry, there were no faces found in '../HKTVMall_data/143.jpg'\nSorry, there were no faces found in '../HKTVMall_data/203.jpg'\n---40/207---\nSorry, there were no faces found in '../HKTVMall_data/258.jpg'\nSorry, there were no faces found in '../HKTVMall_data/260.jpg'\nSorry, there were no faces found in '../HKTVMall_data/271.jpg'\nSorry, there were no faces found in '../HKTVMall_data/277.jpg'\nSorry, there were no faces found in '../HKTVMall_data/283.jpg'\nSorry, there were no faces found in '../HKTVMall_data/289.jpg'\nSorry, there were no faces found in '../HKTVMall_data/298.jpg'\nSorry, there were no faces found in '../HKTVMall_data/309.jpg'\nSorry, there were no faces found in '../HKTVMall_data/311.jpg'\nSorry, there were no faces found in '../HKTVMall_data/320.jpg'\nSorry, there were no faces found in '../HKTVMall_data/342.jpg'\n---60/207---\nSorry, there were no faces found in '../HKTVMall_data/633.jpg'\nSorry, there were no faces found in '../HKTVMall_data/654.jpg'\nSorry, there were no faces found in '../HKTVMall_data/688.jpg'\nSorry, there were no faces found in '../HKTVMall_data/757.jpg'\nSorry, there were no faces found in '../HKTVMall_data/1001.jpg'\nSorry, there were no faces found in '../HKTVMall_data/1002.jpg'\nSorry, there were no faces found in '../HKTVMall_data/1365.jpg'\nSorry, there were no faces found in '../HKTVMall_data/1822.jpg'\nSorry, there were no faces found in '../HKTVMall_data/1915.jpg'\nSorry, there were no faces found in '../HKTVMall_data/1954.jpg'\nSorry, there were no faces found in '../HKTVMall_data/2000.jpg'\n---80/207---\nSorry, there were no faces found in '../HKTVMall_data/2121.jpg'\nSorry, there were no faces found in '../HKTVMall_data/2179.jpg'\nSorry, there were no faces found in '../HKTVMall_data/2203.jpg'\nSorry, there were no faces found in '../HKTVMall_data/2422.jpg'\nSorry, there were no faces found in '../HKTVMall_data/2560.jpg'\nSorry, there were no faces found in '../HKTVMall_data/2747.jpg'\nSorry, there were no faces found in '../HKTVMall_data/2751.jpg'\nSorry, there were no faces found in '../HKTVMall_data/2786.jpg'\nSorry, there were no faces found in '../HKTVMall_data/3201.jpg'\nSorry, there were no faces found in '../HKTVMall_data/3432.jpg'\nSorry, there were no faces found in '../HKTVMall_data/3434.jpg'\nSorry, there were no faces found in '../HKTVMall_data/3438.jpg'\nSorry, there were no faces found in '../HKTVMall_data/3497.jpg'\n---100/207---\nSorry, there were no faces found in '../HKTVMall_data/3505.jpg'\nSorry, there were no faces found in '../HKTVMall_data/3817.jpg'\nSorry, there were no faces found in '../HKTVMall_data/3907.jpg'\nSorry, there were no faces found in '../HKTVMall_data/3985.jpg'\nSorry, there were no faces found in '../HKTVMall_data/3997.jpg'\nSorry, there were no faces found in '../HKTVMall_data/4360.jpg'\nSorry, there were no faces found in '../HKTVMall_data/4658.jpg'\nSorry, there were no faces found in '../HKTVMall_data/4872.jpg'\nSorry, there were no faces found in '../HKTVMall_data/5351.jpg'\nSorry, there were no faces found in '../HKTVMall_data/5371.jpg'\nSorry, there were no faces found in '../HKTVMall_data/5462.jpg'\nSorry, there were no faces found in '../HKTVMall_data/5653.jpg'\nSorry, there were no faces found in '../HKTVMall_data/6641.jpg'\n---120/207---\nSorry, there were no faces found in '../HKTVMall_data/6891.jpg'\nSorry, there were no faces found in '../HKTVMall_data/6911.jpg'\nSorry, there were no faces found in '../HKTVMall_data/6920.jpg'\nSorry, there were no faces found in '../HKTVMall_data/7065.jpg'\nSorry, there were no faces found in '../HKTVMall_data/7069.jpg'\nSorry, there were no faces found in '../HKTVMall_data/7178.jpg'\nSorry, there were no faces found in '../HKTVMall_data/7444.jpg'\nSorry, there were no faces found in '../HKTVMall_data/7705.jpg'\nSorry, there were no faces found in '../HKTVMall_data/7891.jpg'\nSorry, there were no faces found in '../HKTVMall_data/7964.jpg'\nSorry, there were no faces found in '../HKTVMall_data/7972.jpg'\nSorry, there were no faces found in '../HKTVMall_data/8354.jpg'\nSorry, there were no faces found in '../HKTVMall_data/9181.jpg'\nSorry, there were no faces found in '../HKTVMall_data/9379.jpg'\nSorry, there were no faces found in '../HKTVMall_data/9778.jpg'\n---140/207---\nSorry, there were no faces found in '../HKTVMall_data/9934.jpg'\nSorry, there were no faces found in '../HKTVMall_data/10706.jpg'\nSorry, there were no faces found in '../HKTVMall_data/10769.jpg'\nSorry, there were no faces found in '../HKTVMall_data/10960.jpg'\nSorry, there were no faces found in '../HKTVMall_data/10966.jpg'\nSorry, there were no faces found in '../HKTVMall_data/11066.jpg'\nSorry, there were no faces found in '../HKTVMall_data/11078.jpg'\nSorry, there were no faces found in '../HKTVMall_data/11253.jpg'\nSorry, there were no faces found in '../HKTVMall_data/11314.jpg'\nSorry, there were no faces found in '../HKTVMall_data/11371.jpg'\nSorry, there were no faces found in '../HKTVMall_data/11475.jpg'\nSorry, there were no faces found in '../HKTVMall_data/11644.jpg'\nSorry, there were no faces found in '../HKTVMall_data/11727.jpg'\n---160/207---\nSorry, there were no faces found in '../HKTVMall_data/11874.jpg'\nSorry, there were no faces found in '../HKTVMall_data/12146.jpg'\nSorry, there were no faces found in '../HKTVMall_data/12282.jpg'\nSorry, there were no faces found in '../HKTVMall_data/12352.jpg'\nSorry, there were no faces found in '../HKTVMall_data/12359.jpg'\nSorry, there were no faces found in '../HKTVMall_data/12418.jpg'\nSorry, there were no faces found in '../HKTVMall_data/13018.jpg'\nSorry, there were no faces found in '../HKTVMall_data/13025.jpg'\nSorry, there were no faces found in '../HKTVMall_data/13215.jpg'\nSorry, there were no faces found in '../HKTVMall_data/13710.jpg'\nSorry, there were no faces found in '../HKTVMall_data/13836.jpg'\nSorry, there were no faces found in '../HKTVMall_data/14086.jpg'\n---180/207---\nSorry, there were no faces found in '../HKTVMall_data/14517.jpg'\nSorry, there were no faces found in '../HKTVMall_data/14752.jpg'\nSorry, there were no faces found in '../HKTVMall_data/14756.jpg'\nSorry, there were no faces found in '../HKTVMall_data/15094.jpg'\nSorry, there were no faces found in '../HKTVMall_data/15303.jpg'\nSorry, there were no faces found in '../HKTVMall_data/15499.jpg'\nSorry, there were no faces found in '../HKTVMall_data/15571.jpg'\nSorry, there were no faces found in '../HKTVMall_data/15885.jpg'\nSorry, there were no faces found in '../HKTVMall_data/15889.jpg'\nSorry, there were no faces found in '../HKTVMall_data/16344.jpg'\nSorry, there were no faces found in '../HKTVMall_data/16410.jpg'\n---200/207---\nSorry, there were no faces found in '../HKTVMall_data/16944.jpg'\nSorry, there were no faces found in '../HKTVMall_data/17270.jpg'\nSorry, there were no faces found in '../HKTVMall_data/17440.jpg'\npredicting age, gender and race\nPredicting... 0/103\nPredicting... 20/103\nPredicting... 40/103\nPredicting... 60/103\nPredicting... 80/103\nPredicting... 100/103\nsaving prediction result\nTotal time used: 894.6755\n"
        }
      ],
      "execution_count": 71,
      "metadata": {
        "jupyter": {
          "source_hidden": false,
          "outputs_hidden": false
        },
        "nteract": {
          "transient": {
            "deleting": false
          }
        },
        "gather": {
          "logged": 1642329277979
        }
      }
    },
    {
      "cell_type": "code",
      "source": [
        "def evaluate(df, feat_name, pred_col, label_col):\n",
        "    print(feat_name, \" - accuracy: %.2f\" % (len(df[df[pred_col] == res[label_col]]) / len(df)))"
      ],
      "outputs": [],
      "execution_count": 68,
      "metadata": {
        "jupyter": {
          "source_hidden": false,
          "outputs_hidden": false
        },
        "nteract": {
          "transient": {
            "deleting": false
          }
        },
        "gather": {
          "logged": 1642334654789
        }
      }
    },
    {
      "cell_type": "code",
      "source": [
        "pred = pd.read_csv(\"result/face_attributes.csv\")\n",
        "label = pd.read_csv(\"../human_detection/result/true_label.csv\")\n",
        "\n",
        "detect_face_cnt = len(pred[\"image_id\"].unique())\n",
        "face_cnt = len(pred)\n",
        "\n",
        "# filter true label - detect face\n",
        "res = label[label[\"gender\"].notnull()].merge(\n",
        "    pred, on=\"image_id\", how=\"left\", suffixes=[\"_true\", \"_pred\"]\n",
        "    )\n",
        "\n",
        "image_paths = glob.glob(\"../HKTVMall_data/*jpg\")\n",
        "n_images = len(image_paths)\n",
        "\n",
        "df = pd.read_csv(\"../human_detection/result/frcnn_result.csv\")\n",
        "detect_human_cnt = df[\"pred_label\"].sum()\n",
        "\n",
        "face_detect_acc = len(res[res[\"face_idx\"].notnull()]) / len(res)\n",
        "\n",
        "print(\"Test on %d images.\" % n_images)\n",
        "print(\"%d images contain human.\" % detect_human_cnt)\n",
        "print(\"%d images have human faces. Detect %d faces. accuracy - %.2f\" % (detect_face_cnt, face_cnt, face_detect_acc))\n",
        "evaluate(res, \"Race\", \"race_pred\", \"race_true\")\n",
        "evaluate(res, \"Gender\", \"gender_pred\", \"gender_true\")\n",
        "evaluate(res, \"Age group\", \"age_group_pred\", \"age_group_true\")"
      ],
      "outputs": [
        {
          "output_type": "stream",
          "name": "stdout",
          "text": "Test on 463 images.\n207 images contain human.\n88 images have human faces. Detect 103 faces. accuracy - 0.86\nRace  - accuracy: 0.72\nGender  - accuracy: 0.66\nAge group  - accuracy: 0.00\n"
        }
      ],
      "execution_count": 86,
      "metadata": {
        "jupyter": {
          "source_hidden": false,
          "outputs_hidden": false
        },
        "nteract": {
          "transient": {
            "deleting": false
          }
        },
        "gather": {
          "logged": 1642336748427
        }
      }
    },
    {
      "cell_type": "code",
      "source": [],
      "outputs": [],
      "execution_count": null,
      "metadata": {
        "jupyter": {
          "source_hidden": false,
          "outputs_hidden": false
        },
        "nteract": {
          "transient": {
            "deleting": false
          }
        }
      }
    }
  ],
  "metadata": {
    "kernelspec": {
      "name": "azureml_py38_pytorch",
      "language": "python",
      "display_name": "Python 3.8 - PyTorch"
    },
    "language_info": {
      "name": "python",
      "version": "3.8.1",
      "mimetype": "text/x-python",
      "codemirror_mode": {
        "name": "ipython",
        "version": 3
      },
      "pygments_lexer": "ipython3",
      "nbconvert_exporter": "python",
      "file_extension": ".py"
    },
    "kernel_info": {
      "name": "azureml_py38_pytorch"
    },
    "nteract": {
      "version": "nteract-front-end@1.0.0"
    },
    "microsoft": {
      "host": {
        "AzureML": {
          "notebookHasBeenCompleted": true
        }
      }
    }
  },
  "nbformat": 4,
  "nbformat_minor": 2
}